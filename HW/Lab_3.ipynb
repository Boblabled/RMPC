{
 "cells": [
  {
   "metadata": {},
   "cell_type": "markdown",
   "source": [
    "# Лабораторная работа №3 - Управление манипуляционным роботом\n",
    "### Абрамов Максим Витальевич R4134с\n",
    "### Цель:\n",
    "> Решить задачу движения по траектории для\n",
    " многозвенного манипуляционного робота с помощью ПД-регулятора.\n",
    "### Задачи:\n",
    " > 1. По выбранному варианту кинематики робота(см. таблицу 2.1)\n",
    " загрузить модель манипулятора из программного пакета.\n",
    " 2. Заполнить все параметры модели робота согласно лабораторной работе №1.\n",
    " 3. Задать желаемую траекторию движения манипулятора согласно лабораторной работе №2.\n",
    " 4. Создать модель системы управления роботом, реализующую\n",
    " регулирование на основе обратной модели динамики. В работе рекомендуется синтезировать ПД-регулятор (допустимо использование других регуляторов).\n",
    " 5. Настроить коэффициенты регулятора, минимизирующие\n",
    " ошибку обобщенных координат звеньев.\n",
    " 6. Вывести графики изменения положения, скорости и момента\n",
    " для каждого из звеньев робота при движении вдоль траектории.\n",
    " 7. Добавить полезную нагрузку и повторить пункты № 5-6.\n",
    " 8. Составить отчёт в формате `.ipynb` (см. приложение В)."
   ],
   "id": "7d25942d7f09e361"
  },
  {
   "cell_type": "code",
   "id": "86593352",
   "metadata": {
    "ExecuteTime": {
     "end_time": "2025-05-26T09:54:06.355752Z",
     "start_time": "2025-05-26T09:54:06.353813Z"
    }
   },
   "source": [
    "import numpy as np\n",
    "import matplotlib.pyplot as plt\n",
    "\n",
    "from roboticstoolbox import models\n",
    "import roboticstoolbox as rtb"
   ],
   "outputs": [],
   "execution_count": 17
  },
  {
   "metadata": {},
   "cell_type": "markdown",
   "source": " ### 1. По выбранному варианту кинематики робота(см. таблицу 2.1) загрузить модель манипулятора из программного пакета.",
   "id": "7910d333022411b"
  },
  {
   "cell_type": "code",
   "id": "b327d7ce",
   "metadata": {
    "ExecuteTime": {
     "end_time": "2025-05-26T09:54:06.376799Z",
     "start_time": "2025-05-26T09:54:06.371754Z"
    }
   },
   "source": [
    "robot = models.DH.UR5()"
   ],
   "outputs": [],
   "execution_count": 18
  },
  {
   "metadata": {},
   "cell_type": "markdown",
   "source": "### 2. Заполнить все параметры модели робота согласно лабораторной работе №1.",
   "id": "be660fe1095327c7"
  },
  {
   "cell_type": "code",
   "id": "396a04c8",
   "metadata": {
    "ExecuteTime": {
     "end_time": "2025-05-26T09:54:06.415511Z",
     "start_time": "2025-05-26T09:54:06.410616Z"
    }
   },
   "source": [
    "# Массы звеньев (кг)\n",
    "masses = [3.7, 6.8, 4.8, 0.8, 0.8, 0.8]\n",
    "\n",
    "# Центр масс каждого звена (в локальной системе координат)\n",
    "centers_of_mass = [\n",
    "    [0, 0, -0.08],   # Звено 1\n",
    "    [0, -0.12, 0],   # Звено 2\n",
    "    [0, 0, -0.12],   # Звено 3\n",
    "    [0, 0, 0],       # Звено 4\n",
    "    [0, 0, 0],       # Звено 5\n",
    "    [0, 0, 0]        # Звено 6\n",
    "]\n",
    "\n",
    "# Тензоры инерции (Lxx, Lyy, Lzz, Lxy, Lyz, Lxz)\n",
    "inertias = [\n",
    "    [0.0, 0.09, 0.09, 0, 0, 0],         # Звено 1\n",
    "    [0.23, 0.2, 0.03, 0, 0, 0],         # Звено 2\n",
    "    [0.02, 0.02, 0.03, 0, 0, 0],        # Звено 3\n",
    "    [0.001, 0.001, 0.001, 0, 0, 0],     # Звено 4\n",
    "    [0.001, 0.001, 0.001, 0, 0, 0],     # Звено 5\n",
    "    [0.001, 0.001, 0.001, 0, 0, 0]      # Звено 6\n",
    "]\n",
    "\n",
    "# Момент инерции двигателей (примерно)\n",
    "Jm = [0.0001, 0.0004, 0.0001, 0.00001, 0.00001, 0.00001]\n",
    "\n",
    "# Коэффициенты вязкого трения\n",
    "B = [0.1, 0.1, 0.05, 0.01, 0.01, 0.01]\n",
    "\n",
    "# Коэффициенты кулоновского трения (±)\n",
    "Tc = [0.3, 0.5, 0.3, 0.1, 0.1, 0.1]\n",
    "\n",
    "# Передаточные числа редукторов\n",
    "G = [100, 100, 100, 50, 50, 50]\n",
    "\n",
    "# Ограничения по обобщенным координатам (радианы)\n",
    "qlim = [\n",
    "    [-np.pi, np.pi],\n",
    "    [-np.pi, np.pi],\n",
    "    [-np.pi, np.pi],\n",
    "    [-np.pi, np.pi],\n",
    "    [-np.pi, np.pi],\n",
    "    [-np.pi, np.pi]\n",
    "]\n",
    "\n",
    "# Присвоение динамических параметров каждому звену\n",
    "for i in range(6):\n",
    "    robot.links[i].m = masses[i]\n",
    "    robot.links[i].r = centers_of_mass[i]\n",
    "    robot.links[i].I = inertias[i]\n",
    "    robot.links[i].Jm = Jm[i]\n",
    "    robot.links[i].B = B[i]\n",
    "    robot.links[i].Tc = Tc[i]\n",
    "    robot.links[i].G = G[i]\n",
    "    robot.links[i].qlim = qlim[i]"
   ],
   "outputs": [],
   "execution_count": 19
  },
  {
   "metadata": {},
   "cell_type": "markdown",
   "source": "### 3. Задать желаемую траекторию движения манипулятора согласно лабораторной работе №2.",
   "id": "4294b2de77766970"
  },
  {
   "cell_type": "code",
   "id": "f92ced85",
   "metadata": {
    "ExecuteTime": {
     "end_time": "2025-05-26T09:54:06.420700Z",
     "start_time": "2025-05-26T09:54:06.418514Z"
    }
   },
   "source": [
    "# Произвольные начальная и конечная конфигурации\n",
    "q_start = np.array([0, -np.pi/2, np.pi/2, 0, np.pi/2, 0])\n",
    "q_end = np.array([np.pi/2, -np.pi/3, np.pi/3, 0, np.pi/2, 0])\n"
   ],
   "outputs": [],
   "execution_count": 20
  },
  {
   "cell_type": "code",
   "id": "d5548526",
   "metadata": {
    "ExecuteTime": {
     "end_time": "2025-05-26T09:54:06.429802Z",
     "start_time": "2025-05-26T09:54:06.426904Z"
    }
   },
   "source": [
    "# Задание временного массива\n",
    "dt = 0.1\n",
    "mT = 1\n",
    "steps = int(mT / dt)\n",
    "time_array = np.linspace(0, mT, steps)\n",
    "\n",
    "tr_1 = rtb.mtraj(rtb.trapezoidal, q_start, q_end, time_array)\n",
    "\n",
    "q_d_array = tr_1.q\n",
    "qd_d_array = tr_1.qd\n",
    "qdd_d_array = tr_1.qdd"
   ],
   "outputs": [],
   "execution_count": 21
  },
  {
   "metadata": {},
   "cell_type": "markdown",
   "source": "### 4. Создать модель системы управления роботом, реализующую регулирование на основе обратной модели динамики. В работе рекомендуется синтезировать ПД-регулятор (допустимо использование других регуляторов).",
   "id": "47555ead9f2c0f65"
  },
  {
   "cell_type": "code",
   "id": "c02f92d2",
   "metadata": {
    "ExecuteTime": {
     "end_time": "2025-05-26T09:54:06.439599Z",
     "start_time": "2025-05-26T09:54:06.437007Z"
    }
   },
   "source": [
    "def regfunc(robot, t, q_act, qd_act):\n",
    "    global Kp, Kd, tau_array\n",
    "    idx = min(int(t / dt), len(q_d_array) - 1)\n",
    "\n",
    "    q_d = q_d_array[idx]\n",
    "    qd_d = qd_d_array[idx]\n",
    "    qdd_d = qdd_d_array[idx]\n",
    "    \n",
    "    e = q_d - q_act\n",
    "    ed = qd_d - qd_act\n",
    "\n",
    "    M = robot.inertia(q_act)\n",
    "    C = robot.coriolis(q_act, qd_act) @ qd_d\n",
    "    G = robot.gravload(q_act)\n",
    "\n",
    "    tau = M @ qdd_d + C + G + Kp @ e + Kd @ ed\n",
    "    tau_array.append(tau)\n",
    "    return tau\n"
   ],
   "outputs": [],
   "execution_count": 22
  },
  {
   "metadata": {},
   "cell_type": "markdown",
   "source": " ### 5. Настроить коэффициенты регулятора, минимизирующие ошибку обобщенных координат звеньев.",
   "id": "50210c2d4a39cf6"
  },
  {
   "metadata": {
    "ExecuteTime": {
     "end_time": "2025-05-26T09:54:06.448020Z",
     "start_time": "2025-05-26T09:54:06.445567Z"
    }
   },
   "cell_type": "code",
   "source": [
    "Kp = np.diag([470000, 497000, 19000, 37000, 39700, 19000])\n",
    "Kd = np.diag([30000, 10000, 800, 50, 2, 2])"
   ],
   "id": "5eda1eefba9bd300",
   "outputs": [],
   "execution_count": 23
  },
  {
   "cell_type": "code",
   "id": "14108036",
   "metadata": {
    "ExecuteTime": {
     "end_time": "2025-05-26T09:55:50.409258Z",
     "start_time": "2025-05-26T09:54:06.455906Z"
    }
   },
   "source": [
    "tau_array = []\n",
    "tg = robot.fdyn(T=mT, \n",
    "                q0=q_start, \n",
    "                Q=regfunc, \n",
    "                qd0=np.zeros(6), \n",
    "                dt=dt, \n",
    "                solver=\"RK45\", \n",
    "                solver_args={\"atol\": 1e-3, \"rtol\": 1e-2}, \n",
    "                progress=True)\n"
   ],
   "outputs": [
    {
     "name": "stdout",
     "output_type": "stream",
     "text": [
      "                                                                                          \r\n"
     ]
    }
   ],
   "execution_count": 24
  },
  {
   "metadata": {},
   "cell_type": "markdown",
   "source": "### 6. Вывести графики изменения положения, скорости и момента для каждого из звеньев робота при движении вдоль траектории.",
   "id": "b24a03b6e303ab98"
  },
  {
   "metadata": {
    "ExecuteTime": {
     "end_time": "2025-05-26T09:55:50.429743Z",
     "start_time": "2025-05-26T09:55:50.422088Z"
    }
   },
   "cell_type": "code",
   "source": [
    "def plot_pos_and_v(q, dq, colors, labels):\n",
    "    global t_vis\n",
    "    # Графики положения\n",
    "    plt.figure(figsize=(12, 8))\n",
    "    for i in range(6):\n",
    "        plt.subplot(2, 3, i+1)\n",
    "        for j in range(len(q)):\n",
    "            plt.plot(t_vis, np.degrees(q[j][:, i]), colors[j], label=labels[j])   \n",
    "        plt.xlabel('Время (с)')\n",
    "        plt.ylabel(f'q_{i+1} (град)')\n",
    "        plt.title(f'Соединение {i+1}')\n",
    "        plt.legend()\n",
    "        plt.grid(True)\n",
    "    plt.suptitle('Положения соединений')\n",
    "    plt.tight_layout()\n",
    "    plt.show()\n",
    "    \n",
    "    # Графики скоростей\n",
    "    plt.figure(figsize=(12, 8))\n",
    "    for i in range(6):\n",
    "        plt.subplot(2, 3, i+1)\n",
    "        for j in range(len(dq)):\n",
    "            plt.plot(t_vis, np.degrees(dq[j][:, i]), colors[j], label=labels[j])   \n",
    "        plt.xlabel('Время (с)')\n",
    "        plt.ylabel(f'dq_{i+1}/dt (град/с)')\n",
    "        plt.title(f'Соединение {i+1}')\n",
    "        plt.legend()\n",
    "        plt.grid(True)\n",
    "    plt.suptitle('Скорости соединений')\n",
    "    plt.tight_layout()\n",
    "    plt.show()\n",
    "\n",
    "def plot_momentums(tau, colors, labels):\n",
    "    global t_vis\n",
    "    # Графики моментов\n",
    "    plt.figure(figsize=(12, 8))\n",
    "    for i in range(6):\n",
    "        plt.subplot(2, 3, i+1)\n",
    "        for j in range(len(tau)):\n",
    "            plt.plot(t_vis, np.degrees(tau[j][:, i]), colors[j], label=labels[j])   \n",
    "        plt.xlabel('Время (с)')\n",
    "        plt.ylabel(f'τ_{i+1} (Н·м)')\n",
    "        plt.title(f'Соединение {i+1}')\n",
    "        plt.grid(True)\n",
    "        plt.legend()\n",
    "    plt.suptitle('Управляющие моменты')\n",
    "    plt.tight_layout()\n",
    "    plt.show()"
   ],
   "id": "57a5ad75533cfd01",
   "outputs": [],
   "execution_count": 25
  },
  {
   "cell_type": "code",
   "id": "ac1e0fcb",
   "metadata": {
    "ExecuteTime": {
     "end_time": "2025-05-26T09:55:50.481602Z",
     "start_time": "2025-05-26T09:55:50.455192Z"
    }
   },
   "source": [
    "q_sim = np.array(tg.q)\n",
    "\n",
    "min_len = min(len(tg.t), len(q_d_array))\n",
    "t_vis = np.array(tg.t)[:min_len]\n",
    "q_sim_vis = np.array(tg.q)[:min_len]\n",
    "q_des_vis = q_d_array[:min_len]\n",
    "qd_sim_vis = np.array(tg.qd)[:min_len]\n",
    "qd_des_vis = qd_d_array[:min_len]\n",
    "tau = np.array(tau_array)[:min_len]\n",
    "\n",
    "plot_pos_and_v([q_des_vis, q_sim_vis], [qd_des_vis, qd_sim_vis], ['r--', 'g'], labels=['Желаемое', 'Реальное (без нагрузки)'])\n",
    "plot_momentums([tau_traj], ['g'], ['Реальное (без нагрузки)'])\n",
    "\n",
    "\n",
    "fig, axs = plt.subplots(3, 2, figsize=(14, 10))\n",
    "axs = axs.flatten()\n",
    "\n",
    "for i in range(6):\n",
    "    axs[i].plot(t_vis, q_des_vis[:, i], '--', label='Желаемая траектория')\n",
    "    axs[i].plot(t_vis, q_sim_vis[:, i], label='Реальная траектория')\n",
    "    axs[i].set_title(f'Звено {i+1}')\n",
    "    axs[i].set_xlabel(\"Время (с)\")\n",
    "    axs[i].set_ylabel(\"Положение (рад)\")\n",
    "    axs[i].grid(True)\n",
    "    axs[i].legend()\n",
    "\n",
    "plt.suptitle(\"Сравнение желаемой и реальной траекторий UR5 по каждому звену\", fontsize=16)\n",
    "plt.tight_layout()\n",
    "plt.show()"
   ],
   "outputs": [
    {
     "ename": "AttributeError",
     "evalue": "'fdyn' object has no attribute 'tau'",
     "output_type": "error",
     "traceback": [
      "\u001B[31m---------------------------------------------------------------------------\u001B[39m",
      "\u001B[31mAttributeError\u001B[39m                            Traceback (most recent call last)",
      "\u001B[36mCell\u001B[39m\u001B[36m \u001B[39m\u001B[32mIn[26]\u001B[39m\u001B[32m, line 9\u001B[39m\n\u001B[32m      7\u001B[39m qd_sim_vis = np.array(tg.qd)[:min_len]\n\u001B[32m      8\u001B[39m qd_des_vis = qd_d_array[:min_len]\n\u001B[32m----> \u001B[39m\u001B[32m9\u001B[39m tau = np.array(\u001B[43mtg\u001B[49m\u001B[43m.\u001B[49m\u001B[43mtau\u001B[49m)[:min_len]\n\u001B[32m     11\u001B[39m plot_pos_and_v([q_des_vis, q_sim_vis], [qd_des_vis, qd_sim_vis], [\u001B[33m'\u001B[39m\u001B[33mr--\u001B[39m\u001B[33m'\u001B[39m, \u001B[33m'\u001B[39m\u001B[33mg\u001B[39m\u001B[33m'\u001B[39m], labels=[\u001B[33m'\u001B[39m\u001B[33mЖелаемое\u001B[39m\u001B[33m'\u001B[39m, \u001B[33m'\u001B[39m\u001B[33mРеальное (без нагрузки)\u001B[39m\u001B[33m'\u001B[39m])\n\u001B[32m     12\u001B[39m \u001B[38;5;66;03m# plot_momentums([tau_traj], ['g'], ['Реальное (без нагрузки)'])\u001B[39;00m\n",
      "\u001B[31mAttributeError\u001B[39m: 'fdyn' object has no attribute 'tau'"
     ]
    }
   ],
   "execution_count": 26
  },
  {
   "metadata": {},
   "cell_type": "markdown",
   "source": " ### 7. Добавить полезную нагрузку и повторить пункты № 5-6.",
   "id": "615d61ae3f45987"
  },
  {
   "metadata": {},
   "cell_type": "markdown",
   "source": [
    " ## Выводы о проделанной работе:\n",
    " > В рамках лабораторной работы была решена задача управления многозвенным манипуляционным роботом с использованием ПД-регулятора. На основе выбранной кинематической структуры была загружена модель манипулятора `UR5`, все параметры которой были приведены в соответствие с результатами первой лабораторной работы. Заданная траектория движения, спланированная во второй лабораторной работе, использовалась как эталон для построения управляющих воздействий.\n",
    ">\n",
    "> Для управления движением манипулятора был синтезирован ПД-регулятор. Путем подбора коэффициентов пропорциональной и дифференциальной составляющих удалось достичь устойчивого движения по заданной траектории с минимальной ошибкой в обобщённых координатах.\n",
    "> \n",
    "> Дополнительно была рассмотрена задача управления при наличии полезной нагрузки. Это позволило проанализировать влияние дополнительной массы на динамику системы и адаптивность регулятора. Результаты показали, что корректно настроенный ПД-регулятор способен обеспечить приемлемое качество управления даже при изменении динамических свойств робота.\n",
    "\n"
   ],
   "id": "94fe4711becddd2c"
  }
 ],
 "metadata": {
  "kernelspec": {
   "display_name": "Python 3",
   "language": "python",
   "name": "python3"
  },
  "language_info": {
   "codemirror_mode": {
    "name": "ipython",
    "version": 3
   },
   "file_extension": ".py",
   "mimetype": "text/x-python",
   "name": "python",
   "nbconvert_exporter": "python",
   "pygments_lexer": "ipython3",
   "version": "3.10.10"
  }
 },
 "nbformat": 4,
 "nbformat_minor": 5
}
